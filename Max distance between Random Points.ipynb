{
 "cells": [
  {
   "cell_type": "code",
   "execution_count": 326,
   "metadata": {
    "ExecuteTime": {
     "end_time": "2020-02-16T00:28:52.920564Z",
     "start_time": "2020-02-16T00:28:52.908477Z"
    }
   },
   "outputs": [
    {
     "ename": "ModuleNotFoundError",
     "evalue": "No module named 'notify'",
     "output_type": "error",
     "traceback": [
      "\u001b[1;31m---------------------------------------------------------------------------\u001b[0m",
      "\u001b[1;31mModuleNotFoundError\u001b[0m                       Traceback (most recent call last)",
      "\u001b[1;32m<ipython-input-326-23681104fea8>\u001b[0m in \u001b[0;36m<module>\u001b[1;34m\u001b[0m\n\u001b[0;32m      2\u001b[0m \u001b[1;32mimport\u001b[0m \u001b[0mmatplotlib\u001b[0m\u001b[1;33m.\u001b[0m\u001b[0mpyplot\u001b[0m \u001b[1;32mas\u001b[0m \u001b[0mplt\u001b[0m\u001b[1;33m\u001b[0m\u001b[1;33m\u001b[0m\u001b[0m\n\u001b[0;32m      3\u001b[0m \u001b[0mget_ipython\u001b[0m\u001b[1;33m(\u001b[0m\u001b[1;33m)\u001b[0m\u001b[1;33m.\u001b[0m\u001b[0mrun_line_magic\u001b[0m\u001b[1;33m(\u001b[0m\u001b[1;34m'matplotlib'\u001b[0m\u001b[1;33m,\u001b[0m \u001b[1;34m'inline'\u001b[0m\u001b[1;33m)\u001b[0m\u001b[1;33m\u001b[0m\u001b[1;33m\u001b[0m\u001b[0m\n\u001b[1;32m----> 4\u001b[1;33m \u001b[1;32mimport\u001b[0m \u001b[0mnotify\u001b[0m\u001b[1;33m\u001b[0m\u001b[1;33m\u001b[0m\u001b[0m\n\u001b[0m",
      "\u001b[1;31mModuleNotFoundError\u001b[0m: No module named 'notify'"
     ]
    }
   ],
   "source": [
    "import numpy as np\n",
    "import matplotlib.pyplot as plt\n",
    "%matplotlib inline\n",
    "import notify \n"
   ]
  },
  {
   "cell_type": "code",
   "execution_count": 288,
   "metadata": {
    "ExecuteTime": {
     "end_time": "2020-02-15T23:00:30.574438Z",
     "start_time": "2020-02-15T23:00:30.563466Z"
    }
   },
   "outputs": [],
   "source": [
    "def pdf_max_distance(n,a = 0,b = 1,N = 100000, array = 0):\n",
    "    \n",
    "    # INPUT:\n",
    "    # 'n' : number of squirrels running around\n",
    "    # 'a' : left endpoint\n",
    "    # 'b' : right endpoint\n",
    "    # 'N' : number of simulations to run to populate distribution\n",
    "    # 'array' : if 0 then returns array simulation for 'n', if 1 then returns matrix simulation up to and including n\n",
    "    \n",
    "    #OUTPUT:\n",
    "    # 'Dmaxs' : array of N simulations for maximum length from all points to adjacent points including endpoints\n",
    "    \n",
    "    if array == 0:\n",
    "        \n",
    "        Dmaxs = np.empty(N)\n",
    "\n",
    "        for k in range(N):\n",
    "            x = np.array([a])\n",
    "            x = np.append(x, np.sort(np.random.rand(n)))\n",
    "            x = np.append(x,b)\n",
    "            \n",
    "            Dx = x[1:] - x[:-1]\n",
    "            \n",
    "            Dmax = np.amax(Dx)\n",
    "            \n",
    "            Dmaxs[k] = Dmax\n",
    "            \n",
    "        return Dmaxs\n",
    "    \n",
    "    elif array == 1:\n",
    "        \n",
    "        num = n\n",
    "        Dmaxs = np.empty([num,N])\n",
    "\n",
    "        for n in range(1,num+1):\n",
    "            \n",
    "            for k in range(N):\n",
    "                x = np.array([a])\n",
    "                x = np.append(x, np.sort(np.random.rand(n)))\n",
    "                x = np.append(x,b)\n",
    "\n",
    "                Dx = x[1:] - x[:-1]\n",
    "        \n",
    "                Dmax = np.amax(Dx)\n",
    "                \n",
    "                Dmaxs[n-1][k] = Dmax\n",
    "                \n",
    "        return Dmaxs\n",
    "    \n",
    "    else:\n",
    "        print(\"'array' input not recognized\")"
   ]
  },
  {
   "cell_type": "code",
   "execution_count": 305,
   "metadata": {
    "ExecuteTime": {
     "end_time": "2020-02-15T23:39:58.327736Z",
     "start_time": "2020-02-15T23:39:58.322058Z"
    }
   },
   "outputs": [],
   "source": [
    "def max_pdf(Dmaxs, position = 1):\n",
    "    \n",
    "    # INPUT:\n",
    "    # 'Dmaxs' : array of N values in distribution\n",
    "    \n",
    "    # OUTPUT:\n",
    "    # 'max_prob' : \n",
    "    #     if position is 1: returns bin position of maximum pdf\n",
    "    #     if position is 0: returns the number of occurences of the max pdf \n",
    "    \n",
    "    S = np.shape(Dmaxs)\n",
    "    if np.size(S) == 1:\n",
    "        N = S[0]\n",
    "    else:\n",
    "        N = S[1]\n",
    "    \n",
    "    max_prob = np.histogram(Dmaxs,bins = np.sqrt(N).astype(int))\n",
    "    max_ind = np.argmax(max_prob[0])\n",
    "    \n",
    "    if position == 1:\n",
    "        return max_prob[1][max_ind]\n",
    "        \n",
    "    elif position == 0:\n",
    "        return max_prob[0][max_ind]\n",
    "    \n",
    "    else:\n",
    "        print(\"'position' input not recognized\")"
   ]
  },
  {
   "cell_type": "code",
   "execution_count": 312,
   "metadata": {
    "ExecuteTime": {
     "end_time": "2020-02-15T23:45:20.128128Z",
     "start_time": "2020-02-15T23:45:18.579861Z"
    }
   },
   "outputs": [
    {
     "data": {
      "text/plain": [
       "array([0.72696645, 0.65001387, 0.66813295, ..., 0.6383662 , 0.55610685,\n",
       "       0.82929746])"
      ]
     },
     "execution_count": 312,
     "metadata": {},
     "output_type": "execute_result"
    }
   ],
   "source": [
    "pdf_max_distance(2)"
   ]
  },
  {
   "cell_type": "code",
   "execution_count": 318,
   "metadata": {
    "ExecuteTime": {
     "end_time": "2020-02-15T23:48:16.730638Z",
     "start_time": "2020-02-15T23:48:14.721544Z"
    }
   },
   "outputs": [
    {
     "data": {
      "image/png": "[encoded data removed]",
      "text/plain": [
       "<Figure size 432x288 with 1 Axes>"
      ]
     },
     "metadata": {
      "needs_background": "light"
     },
     "output_type": "display_data"
    }
   ],
   "source": [
    "Dmaxs = pdf_max_distance(4)\n",
    "N = np.size(Dmaxs)\n",
    "plt.hist(Dmaxs, bins = np.sqrt(N).astype(int), density = 'True')\n",
    "plt.show()"
   ]
  },
  {
   "cell_type": "code",
   "execution_count": 323,
   "metadata": {
    "ExecuteTime": {
     "end_time": "2020-02-15T23:50:15.318899Z",
     "start_time": "2020-02-15T23:50:14.809631Z"
    }
   },
   "outputs": [
    {
     "data": {
      "text/plain": [
       "[<matplotlib.lines.Line2D at 0x2244eb6e080>]"
      ]
     },
     "execution_count": 323,
     "metadata": {},
     "output_type": "execute_result"
    },
    {
     "data": {
      "image/png": "[encoded data removed]",
      "text/plain": [
       "<Figure size 432x288 with 1 Axes>"
      ]
     },
     "metadata": {
      "needs_background": "light"
     },
     "output_type": "display_data"
    }
   ],
   "source": [
    "plt.hist(Dmaxs, bins = np.sqrt(N).astype(int), density = 'True')\n",
    "m = 2\n",
    "h = 1/(n+1)\n",
    "a =(.4-h)/m\n",
    "A =1/(np.math.factorial(m)*a)\n",
    "X = np.linspace(h,1,1000) \n",
    "plt.plot(X, A*(((X-h)/a)**m)*np.exp(-1*(X-h)/a))"
   ]
  },
  {
   "cell_type": "code",
   "execution_count": 197,
   "metadata": {
    "ExecuteTime": {
     "end_time": "2020-02-15T21:28:18.574316Z",
     "start_time": "2020-02-15T21:28:13.027054Z"
    }
   },
   "outputs": [
    {
     "data": {
      "text/plain": [
       "[<matplotlib.lines.Line2D at 0x22441768438>]"
      ]
     },
     "execution_count": 197,
     "metadata": {},
     "output_type": "execute_result"
    },
    {
     "data": {
      "image/png": "[encoded data removed]",
      "text/plain": [
       "<Figure size 432x288 with 1 Axes>"
      ]
     },
     "metadata": {
      "needs_background": "light"
     },
     "output_type": "display_data"
    }
   ],
   "source": [
    "plt.hist(Dmaxs, bins = np.sqrt(N).astype(int), density = 'False')\n",
    "m = 4\n",
    "h = 1/(n+1)\n",
    "a =(.4-h)/m\n",
    "A =1/(np.math.factorial(m)*a)\n",
    "X = np.linspace(h,1,1000) \n",
    "plt.plot(X, A*(((X-h)/a)**m)*2.755**(-1*(X-h)/a))"
   ]
  },
  {
   "cell_type": "code",
   "execution_count": 240,
   "metadata": {
    "ExecuteTime": {
     "end_time": "2020-02-15T21:43:43.993604Z",
     "start_time": "2020-02-15T21:43:43.501816Z"
    }
   },
   "outputs": [
    {
     "data": {
      "text/plain": [
       "(array([1.46976129e-02, 9.79840863e-03, 2.93952259e-02, 3.42944302e-02,\n",
       "        3.91936345e-02, 3.42944302e-02, 3.91936345e-02, 7.83872690e-02,\n",
       "        1.17580904e-01, 1.51875334e-01, 2.30262603e-01, 2.05766581e-01,\n",
       "        4.36029184e-01, 3.57641915e-01, 4.94819636e-01, 5.34013270e-01,\n",
       "        7.05485421e-01, 7.88771894e-01, 8.57360755e-01, 1.03863131e+00,\n",
       "        1.21990187e+00, 1.31298676e+00, 1.58244299e+00, 1.55794697e+00,\n",
       "        1.88129446e+00, 2.05276661e+00, 2.30752523e+00, 2.20954115e+00,\n",
       "        2.49859420e+00, 2.85623611e+00, 2.90032895e+00, 3.10609553e+00,\n",
       "        3.09139792e+00, 3.70379846e+00, 3.46373745e+00, 3.91936345e+00,\n",
       "        3.76748812e+00, 4.22311412e+00, 4.24761014e+00, 4.34559423e+00,\n",
       "        4.71793375e+00, 4.92859954e+00, 4.95309556e+00, 4.94819636e+00,\n",
       "        5.36462872e+00, 5.03148283e+00, 5.11476930e+00, 5.60958894e+00,\n",
       "        5.55569769e+00, 5.64388337e+00, 5.45771361e+00, 5.63408496e+00,\n",
       "        5.64388337e+00, 6.01132369e+00, 5.81535552e+00, 5.90844040e+00,\n",
       "        5.66348019e+00, 6.08481176e+00, 5.96233165e+00, 5.73206905e+00,\n",
       "        5.65858098e+00, 5.95253324e+00, 5.87904518e+00, 5.89864199e+00,\n",
       "        5.65368178e+00, 5.84964995e+00, 5.68797621e+00, 5.50180644e+00,\n",
       "        5.65368178e+00, 5.74676666e+00, 5.53610087e+00, 5.69287541e+00,\n",
       "        5.57039530e+00, 5.43321758e+00, 5.34503191e+00, 5.14416453e+00,\n",
       "        5.31073748e+00, 5.15886214e+00, 5.03148283e+00, 4.92370034e+00,\n",
       "        4.96779317e+00, 4.37988866e+00, 4.56605842e+00, 4.58075603e+00,\n",
       "        4.68853853e+00, 4.51216717e+00, 4.30150139e+00, 4.46317513e+00,\n",
       "        4.15942446e+00, 4.28190457e+00, 4.15452526e+00, 4.10553321e+00,\n",
       "        3.96345629e+00, 3.80178255e+00, 3.52252790e+00, 3.83607698e+00,\n",
       "        3.81158096e+00, 3.60581437e+00, 3.38535018e+00, 3.50293108e+00,\n",
       "        3.20897883e+00, 3.17468440e+00, 3.23347485e+00, 3.06200270e+00,\n",
       "        3.02770827e+00, 3.02770827e+00, 2.82684089e+00, 2.92972418e+00,\n",
       "        2.69946158e+00, 2.58188067e+00, 2.72885680e+00, 2.32222284e+00,\n",
       "        2.33692046e+00, 2.45450136e+00, 2.45450136e+00, 2.27323080e+00,\n",
       "        2.27813001e+00, 2.17524672e+00, 2.27813001e+00, 2.15564990e+00,\n",
       "        1.96458093e+00, 1.88619366e+00, 2.06256502e+00, 1.94498411e+00,\n",
       "        1.80290719e+00, 2.04296820e+00, 1.79800798e+00, 1.65593106e+00,\n",
       "        1.72451992e+00, 1.78331037e+00, 1.62653583e+00, 1.59714061e+00,\n",
       "        1.45016448e+00, 1.43546686e+00, 1.41097084e+00, 1.63143504e+00,\n",
       "        1.38157562e+00, 1.30318835e+00, 1.19050665e+00, 1.19540585e+00,\n",
       "        1.14641381e+00, 1.24439790e+00, 1.12191779e+00, 1.14641381e+00,\n",
       "        1.14151461e+00, 1.03863131e+00, 9.25949615e-01, 9.35748024e-01,\n",
       "        8.57360755e-01, 9.11252002e-01, 9.06352798e-01, 8.67159164e-01,\n",
       "        7.83872690e-01, 7.69175077e-01, 7.98570303e-01, 8.96554389e-01,\n",
       "        6.85888604e-01, 6.85888604e-01, 8.23066325e-01, 6.61392582e-01,\n",
       "        6.95687013e-01, 6.56493378e-01, 6.02602131e-01, 6.46694969e-01,\n",
       "        6.51594174e-01, 4.89920431e-01, 5.68307700e-01, 5.53610087e-01,\n",
       "        4.75222818e-01, 5.38912475e-01, 4.80122023e-01, 5.43811679e-01,\n",
       "        5.78106109e-01, 3.67440324e-01, 3.47843506e-01, 4.65424410e-01,\n",
       "        3.87037141e-01, 3.96835549e-01, 3.72339528e-01, 3.87037141e-01,\n",
       "        3.38045098e-01, 2.84153850e-01, 3.72339528e-01, 3.13549076e-01,\n",
       "        2.84153850e-01, 3.33145893e-01, 3.08649872e-01, 2.64557033e-01,\n",
       "        2.40061011e-01, 2.10665785e-01, 2.35161807e-01, 3.08649872e-01,\n",
       "        2.49859420e-01, 2.20464194e-01, 1.81270560e-01, 2.00867377e-01,\n",
       "        1.95968173e-01, 2.10665785e-01, 1.81270560e-01, 1.12681699e-01,\n",
       "        2.15564990e-01, 1.81270560e-01, 1.51875334e-01, 1.71472151e-01,\n",
       "        1.61673742e-01, 1.51875334e-01, 1.12681699e-01, 1.51875334e-01,\n",
       "        1.12681699e-01, 1.46976129e-01, 1.71472151e-01, 1.22480108e-01,\n",
       "        1.27379312e-01, 1.42076925e-01, 1.32278516e-01, 1.17580904e-01,\n",
       "        9.79840863e-02, 9.79840863e-02, 8.32864733e-02, 9.79840863e-02,\n",
       "        7.34880647e-02, 6.36896561e-02, 5.87904518e-02, 3.91936345e-02,\n",
       "        1.07782495e-01, 8.32864733e-02, 5.38912475e-02, 4.89920431e-02,\n",
       "        8.81856776e-02, 4.40928388e-02, 2.44960216e-02, 8.32864733e-02,\n",
       "        3.91936345e-02, 6.36896561e-02, 3.91936345e-02, 7.34880647e-02,\n",
       "        7.83872690e-02, 7.83872690e-02, 6.36896561e-02, 2.93952259e-02,\n",
       "        2.93952259e-02, 3.91936345e-02, 0.00000000e+00, 3.42944302e-02,\n",
       "        2.44960216e-02, 4.40928388e-02, 2.93952259e-02, 3.42944302e-02,\n",
       "        3.91936345e-02, 3.42944302e-02, 3.42944302e-02, 9.79840863e-03,\n",
       "        1.46976129e-02, 2.44960216e-02, 1.95968173e-02, 2.44960216e-02,\n",
       "        1.46976129e-02, 3.42944302e-02, 1.46976129e-02, 1.46976129e-02,\n",
       "        1.95968173e-02, 9.79840863e-03, 1.95968173e-02, 0.00000000e+00,\n",
       "        2.44960216e-02, 2.44960216e-02, 9.79840863e-03, 1.46976129e-02,\n",
       "        0.00000000e+00, 9.79840863e-03, 1.46976129e-02, 4.89920431e-03,\n",
       "        4.89920431e-03, 4.89920431e-03, 4.89920431e-03, 1.46976129e-02,\n",
       "        0.00000000e+00, 0.00000000e+00, 0.00000000e+00, 9.79840863e-03,\n",
       "        0.00000000e+00, 0.00000000e+00, 1.46976129e-02, 4.89920431e-03,\n",
       "        4.89920431e-03, 1.46976129e-02, 0.00000000e+00, 4.89920431e-03,\n",
       "        0.00000000e+00, 0.00000000e+00, 0.00000000e+00, 4.89920431e-03,\n",
       "        0.00000000e+00, 4.89920431e-03, 0.00000000e+00, 0.00000000e+00,\n",
       "        4.89920431e-03, 0.00000000e+00, 0.00000000e+00, 0.00000000e+00,\n",
       "        0.00000000e+00, 0.00000000e+00, 0.00000000e+00, 0.00000000e+00,\n",
       "        0.00000000e+00, 0.00000000e+00, 0.00000000e+00, 0.00000000e+00,\n",
       "        4.89920431e-03, 0.00000000e+00, 0.00000000e+00, 0.00000000e+00,\n",
       "        0.00000000e+00, 0.00000000e+00, 0.00000000e+00, 4.89920431e-03]),\n",
       " array([0.12984176, 0.1318829 , 0.13392405, 0.1359652 , 0.13800635,\n",
       "        0.1400475 , 0.14208864, 0.14412979, 0.14617094, 0.14821209,\n",
       "        0.15025323, 0.15229438, 0.15433553, 0.15637668, 0.15841783,\n",
       "        0.16045897, 0.16250012, 0.16454127, 0.16658242, 0.16862356,\n",
       "        0.17066471, 0.17270586, 0.17474701, 0.17678816, 0.1788293 ,\n",
       "        0.18087045, 0.1829116 , 0.18495275, 0.18699389, 0.18903504,\n",
       "        0.19107619, 0.19311734, 0.19515849, 0.19719963, 0.19924078,\n",
       "        0.20128193, 0.20332308, 0.20536422, 0.20740537, 0.20944652,\n",
       "        0.21148767, 0.21352882, 0.21556996, 0.21761111, 0.21965226,\n",
       "        0.22169341, 0.22373455, 0.2257757 , 0.22781685, 0.229858  ,\n",
       "        0.23189915, 0.23394029, 0.23598144, 0.23802259, 0.24006374,\n",
       "        0.24210488, 0.24414603, 0.24618718, 0.24822833, 0.25026948,\n",
       "        0.25231062, 0.25435177, 0.25639292, 0.25843407, 0.26047521,\n",
       "        0.26251636, 0.26455751, 0.26659866, 0.26863981, 0.27068095,\n",
       "        0.2727221 , 0.27476325, 0.2768044 , 0.27884554, 0.28088669,\n",
       "        0.28292784, 0.28496899, 0.28701014, 0.28905128, 0.29109243,\n",
       "        0.29313358, 0.29517473, 0.29721587, 0.29925702, 0.30129817,\n",
       "        0.30333932, 0.30538047, 0.30742161, 0.30946276, 0.31150391,\n",
       "        0.31354506, 0.3155862 , 0.31762735, 0.3196685 , 0.32170965,\n",
       "        0.3237508 , 0.32579194, 0.32783309, 0.32987424, 0.33191539,\n",
       "        0.33395653, 0.33599768, 0.33803883, 0.34007998, 0.34212113,\n",
       "        0.34416227, 0.34620342, 0.34824457, 0.35028572, 0.35232686,\n",
       "        0.35436801, 0.35640916, 0.35845031, 0.36049146, 0.3625326 ,\n",
       "        0.36457375, 0.3666149 , 0.36865605, 0.37069719, 0.37273834,\n",
       "        0.37477949, 0.37682064, 0.37886179, 0.38090293, 0.38294408,\n",
       "        0.38498523, 0.38702638, 0.38906752, 0.39110867, 0.39314982,\n",
       "        0.39519097, 0.39723212, 0.39927326, 0.40131441, 0.40335556,\n",
       "        0.40539671, 0.40743785, 0.409479  , 0.41152015, 0.4135613 ,\n",
       "        0.41560245, 0.41764359, 0.41968474, 0.42172589, 0.42376704,\n",
       "        0.42580818, 0.42784933, 0.42989048, 0.43193163, 0.43397278,\n",
       "        0.43601392, 0.43805507, 0.44009622, 0.44213737, 0.44417851,\n",
       "        0.44621966, 0.44826081, 0.45030196, 0.45234311, 0.45438425,\n",
       "        0.4564254 , 0.45846655, 0.4605077 , 0.46254884, 0.46458999,\n",
       "        0.46663114, 0.46867229, 0.47071344, 0.47275458, 0.47479573,\n",
       "        0.47683688, 0.47887803, 0.48091917, 0.48296032, 0.48500147,\n",
       "        0.48704262, 0.48908377, 0.49112491, 0.49316606, 0.49520721,\n",
       "        0.49724836, 0.4992895 , 0.50133065, 0.5033718 , 0.50541295,\n",
       "        0.5074541 , 0.50949524, 0.51153639, 0.51357754, 0.51561869,\n",
       "        0.51765983, 0.51970098, 0.52174213, 0.52378328, 0.52582443,\n",
       "        0.52786557, 0.52990672, 0.53194787, 0.53398902, 0.53603016,\n",
       "        0.53807131, 0.54011246, 0.54215361, 0.54419476, 0.5462359 ,\n",
       "        0.54827705, 0.5503182 , 0.55235935, 0.55440049, 0.55644164,\n",
       "        0.55848279, 0.56052394, 0.56256509, 0.56460623, 0.56664738,\n",
       "        0.56868853, 0.57072968, 0.57277082, 0.57481197, 0.57685312,\n",
       "        0.57889427, 0.58093542, 0.58297656, 0.58501771, 0.58705886,\n",
       "        0.58910001, 0.59114115, 0.5931823 , 0.59522345, 0.5972646 ,\n",
       "        0.59930575, 0.60134689, 0.60338804, 0.60542919, 0.60747034,\n",
       "        0.60951148, 0.61155263, 0.61359378, 0.61563493, 0.61767608,\n",
       "        0.61971722, 0.62175837, 0.62379952, 0.62584067, 0.62788181,\n",
       "        0.62992296, 0.63196411, 0.63400526, 0.63604641, 0.63808755,\n",
       "        0.6401287 , 0.64216985, 0.644211  , 0.64625214, 0.64829329,\n",
       "        0.65033444, 0.65237559, 0.65441674, 0.65645788, 0.65849903,\n",
       "        0.66054018, 0.66258133, 0.66462247, 0.66666362, 0.66870477,\n",
       "        0.67074592, 0.67278707, 0.67482821, 0.67686936, 0.67891051,\n",
       "        0.68095166, 0.6829928 , 0.68503395, 0.6870751 , 0.68911625,\n",
       "        0.6911574 , 0.69319854, 0.69523969, 0.69728084, 0.69932199,\n",
       "        0.70136313, 0.70340428, 0.70544543, 0.70748658, 0.70952773,\n",
       "        0.71156887, 0.71361002, 0.71565117, 0.71769232, 0.71973346,\n",
       "        0.72177461, 0.72381576, 0.72585691, 0.72789806, 0.7299392 ,\n",
       "        0.73198035, 0.7340215 , 0.73606265, 0.73810379, 0.74014494,\n",
       "        0.74218609, 0.74422724, 0.74626839, 0.74830953, 0.75035068,\n",
       "        0.75239183, 0.75443298, 0.75647412, 0.75851527, 0.76055642,\n",
       "        0.76259757, 0.76463872, 0.76667986, 0.76872101, 0.77076216,\n",
       "        0.77280331, 0.77484445]),\n",
       " <a list of 316 Patch objects>)"
      ]
     },
     "execution_count": 240,
     "metadata": {},
     "output_type": "execute_result"
    },
    {
     "data": {
      "image/png": "[encoded data removed]",
      "text/plain": [
       "<Figure size 432x288 with 1 Axes>"
      ]
     },
     "metadata": {
      "needs_background": "light"
     },
     "output_type": "display_data"
    }
   ],
   "source": [
    "plt.hist(Dmaxs[8], bins = np.sqrt(N).astype(int), density = 'False')"
   ]
  }
 ],
 "metadata": {
  "kernelspec": {
   "display_name": "Python 3",
   "language": "python",
   "name": "python3"
  },
  "language_info": {
   "codemirror_mode": {
    "name": "ipython",
    "version": 3
   },
   "file_extension": ".py",
   "mimetype": "text/x-python",
   "name": "python",
   "nbconvert_exporter": "python",
   "pygments_lexer": "ipython3",
   "version": "3.7.1"
  }
 },
 "nbformat": 4,
 "nbformat_minor": 2
}
