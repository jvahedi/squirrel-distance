{
 "cells": [
  {
   "cell_type": "code",
   "execution_count": 1,
   "metadata": {
    "ExecuteTime": {
     "end_time": "2020-03-23T03:53:45.007177Z",
     "start_time": "2020-03-23T03:53:44.284256Z"
    }
   },
   "outputs": [],
   "source": [
    "import numpy as np\n",
    "import matplotlib.pyplot as plt\n",
    "%matplotlib inline\n"
   ]
  },
  {
   "cell_type": "code",
   "execution_count": 3,
   "metadata": {
    "ExecuteTime": {
     "end_time": "2020-04-10T03:59:48.362762Z",
     "start_time": "2020-04-10T03:59:48.342815Z"
    }
   },
   "outputs": [],
   "source": [
    "def pdf_max_distance(n,a = 0,b = 1,N = 100000, array = 0):\n",
    "    \n",
    "    #Function simulates a distribution for the maximum distance between n many points placed randomly on a 1D interval [a,b].\n",
    "\n",
    "    \n",
    "    # INPUT:\n",
    "    # 'n' : number of squirrels running around (or placed) on the interval \n",
    "    # 'a' : left endpoint\n",
    "    # 'b' : right endpoint\n",
    "    # 'N' : number of simulations to run to populate distribution\n",
    "    # 'array' : if 0 then returns array simulation for 'n', if 1 then returns matrix simulation up to and including n\n",
    "    \n",
    "    #OUTPUT:\n",
    "    # 'Dmaxs' : array of N simulations for maximum length from all points to adjacent points including endpoints\n",
    "    \n",
    "    if array == 0:\n",
    "        \n",
    "        Dmaxs = np.empty(N)\n",
    "\n",
    "        for k in range(N):\n",
    "            x = np.array([a])\n",
    "            x = np.append(x, np.sort(np.random.rand(n)))\n",
    "            x = np.append(x,b)\n",
    "            \n",
    "            Dx = x[1:] - x[:-1]\n",
    "            \n",
    "            Dmax = np.amax(Dx)\n",
    "            \n",
    "            Dmaxs[k] = Dmax\n",
    "            \n",
    "        return Dmaxs\n",
    "    \n",
    "    elif array == 1:\n",
    "        \n",
    "        num = n\n",
    "        Dmaxs = np.empty([num,N])\n",
    "\n",
    "        for n in range(1,num+1):\n",
    "            \n",
    "            for k in range(N):\n",
    "                x = np.array([a])\n",
    "                x = np.append(x, np.sort(np.random.rand(n)))\n",
    "                x = np.append(x,b)\n",
    "\n",
    "                Dx = x[1:] - x[:-1]\n",
    "        \n",
    "                Dmax = np.amax(Dx)\n",
    "                \n",
    "                Dmaxs[n-1][k] = Dmax\n",
    "                \n",
    "        return Dmaxs\n",
    "    \n",
    "    else:\n",
    "        print(\"'array' input not recognized\")"
   ]
  },
  {
   "cell_type": "code",
   "execution_count": 3,
   "metadata": {
    "ExecuteTime": {
     "end_time": "2020-03-23T03:53:45.919397Z",
     "start_time": "2020-03-23T03:53:45.914423Z"
    }
   },
   "outputs": [],
   "source": [
    "def max_pdf(Dmaxs, position = 1):\n",
    "    \n",
    "    # INPUT:\n",
    "    # 'Dmaxs' : array of N values in distribution\n",
    "    \n",
    "    # OUTPUT:\n",
    "    # 'max_prob' : \n",
    "    #     if position is 1: returns bin position of maximum pdf\n",
    "    #     if position is 0: returns the number of occurences of the max pdf \n",
    "    \n",
    "    S = np.shape(Dmaxs)\n",
    "    if np.size(S) == 1:\n",
    "        N = S[0]\n",
    "    else:\n",
    "        N = S[1]\n",
    "    \n",
    "    max_prob = np.histogram(Dmaxs,bins = np.sqrt(N).astype(int))\n",
    "    max_ind = np.argmax(max_prob[0])\n",
    "    \n",
    "    if position == 1:\n",
    "        return max_prob[1][max_ind]\n",
    "        \n",
    "    elif position == 0:\n",
    "        return max_prob[0][max_ind]\n",
    "    \n",
    "    else:\n",
    "        print(\"'position' input not recognized\")"
   ]
  },
  {
   "cell_type": "code",
   "execution_count": 4,
   "metadata": {
    "ExecuteTime": {
     "end_time": "2020-03-23T03:53:49.921326Z",
     "start_time": "2020-03-23T03:53:47.727199Z"
    }
   },
   "outputs": [
    {
     "data": {
      "image/png": "[encoded data removed]",
      "text/plain": [
       "<Figure size 432x288 with 1 Axes>"
      ]
     },
     "metadata": {
      "needs_background": "light"
     },
     "output_type": "display_data"
    }
   ],
   "source": [
    "Dmaxs = pdf_max_distance(3, N = 100000)\n",
    "N = np.size(Dmaxs)\n",
    "plt.hist(Dmaxs, bins = np.sqrt(N).astype(int), density = 'True')\n",
    "plt.show()"
   ]
  },
  {
   "cell_type": "code",
   "execution_count": 5,
   "metadata": {
    "ExecuteTime": {
     "end_time": "2020-03-23T03:54:11.419171Z",
     "start_time": "2020-03-23T03:53:54.470882Z"
    }
   },
   "outputs": [],
   "source": [
    "Dmaxs = pdf_max_distance(4, N = 1000000)"
   ]
  },
  {
   "cell_type": "code",
   "execution_count": 19,
   "metadata": {
    "ExecuteTime": {
     "end_time": "2020-03-23T04:50:11.412026Z",
     "start_time": "2020-03-23T04:50:10.635960Z"
    }
   },
   "outputs": [
    {
     "name": "stderr",
     "output_type": "stream",
     "text": [
      "C:\\Users\\John\\Anaconda3\\lib\\site-packages\\ipykernel_launcher.py:7: RuntimeWarning: divide by zero encountered in true_divide\n",
      "  import sys\n",
      "C:\\Users\\John\\Anaconda3\\lib\\site-packages\\ipykernel_launcher.py:7: RuntimeWarning: invalid value encountered in multiply\n",
      "  import sys\n"
     ]
    },
    {
     "data": {
      "text/plain": [
       "[<matplotlib.lines.Line2D at 0x1f6a7cba8d0>]"
      ]
     },
     "execution_count": 19,
     "metadata": {},
     "output_type": "execute_result"
    },
    {
     "data": {
      "image/png": "[encoded data removed]",
      "text/plain": [
       "<Figure size 432x288 with 1 Axes>"
      ]
     },
     "metadata": {
      "needs_background": "light"
     },
     "output_type": "display_data"
    }
   ],
   "source": [
    "plt.hist(Dmaxs, bins = np.sqrt(N).astype(int), density = 'True')\n",
    "m = 4\n",
    "h = 1/(m+1)\n",
    "a =(.4-h)/m\n",
    "A =1/(np.math.factorial(m)*a)\n",
    "X = np.linspace(h,1,1000)\n",
    "plt.plot(X, A*((1/(X-h)-(1+1/m))**m)*np.exp(-(1/(X-h)-(1+1/m))))"
   ]
  },
  {
   "cell_type": "code",
   "execution_count": 22,
   "metadata": {
    "ExecuteTime": {
     "end_time": "2020-02-15T23:55:45.158787Z",
     "start_time": "2020-02-15T23:55:44.609766Z"
    }
   },
   "outputs": [
    {
     "data": {
      "text/plain": [
       "[<matplotlib.lines.Line2D at 0x1fcd62afac8>]"
      ]
     },
     "execution_count": 22,
     "metadata": {},
     "output_type": "execute_result"
    },
    {
     "data": {
      "image/png": "[encoded data removed]",
      "text/plain": [
       "<Figure size 432x288 with 1 Axes>"
      ]
     },
     "metadata": {
      "needs_background": "light"
     },
     "output_type": "display_data"
    }
   ],
   "source": [
    "plt.hist(Dmaxs, bins = np.sqrt(N).astype(int), density = 'True')\n",
    "m = 4\n",
    "h = 1/(m+1)\n",
    "a =(.4-h)/m\n",
    "A =1/(np.math.factorial(m)*a)\n",
    "X = np.linspace(h,1,1000) \n",
    "plt.plot(X, A*(((X-h)/a)**m)*np.exp(-(X-h)/a))"
   ]
  },
  {
   "cell_type": "code",
   "execution_count": 27,
   "metadata": {
    "ExecuteTime": {
     "end_time": "2020-02-15T23:57:13.706201Z",
     "start_time": "2020-02-15T23:57:12.075614Z"
    }
   },
   "outputs": [
    {
     "data": {
      "text/plain": [
       "[<matplotlib.lines.Line2D at 0x1fcd85164e0>]"
      ]
     },
     "execution_count": 27,
     "metadata": {},
     "output_type": "execute_result"
    },
    {
     "data": {
      "image/png": "[encoded data removed]",
      "text/plain": [
       "<Figure size 432x288 with 1 Axes>"
      ]
     },
     "metadata": {
      "needs_background": "light"
     },
     "output_type": "display_data"
    }
   ],
   "source": [
    "plt.hist(Dmaxs, bins = np.sqrt(N).astype(int), density = 'False')\n",
    "m = 4\n",
    "h = 1/(m+1)\n",
    "a =(.4-h)/m\n",
    "A =1/(np.math.factorial(m)*a)\n",
    "X = np.linspace(h,1,1000) \n",
    "plt.plot(X, A*(((X-h)/a)**m)*2.748**(-1*(X-h)/a))"
   ]
  },
  {
   "cell_type": "code",
   "execution_count": 65,
   "metadata": {
    "ExecuteTime": {
     "end_time": "2020-02-16T00:34:11.981010Z",
     "start_time": "2020-02-16T00:19:17.707166Z"
    }
   },
   "outputs": [
    {
     "data": {
      "text/plain": [
       "array([1.        , 0.77769073, 0.50331404, 0.45186985, 0.38437648,\n",
       "       0.3515819 , 0.31483637, 0.2935665 , 0.27133272, 0.24899044,\n",
       "       0.23458655, 0.22071444, 0.21099272, 0.20080525, 0.1886983 ,\n",
       "       0.17935709, 0.17197666, 0.16546499, 0.16228835, 0.15529183,\n",
       "       0.14859973, 0.14370883, 0.1383237 , 0.13598495, 0.13251523,\n",
       "       0.12680149, 0.12502754, 0.12143921, 0.11757464, 0.11413498,\n",
       "       0.1117998 , 0.10809117, 0.10897852, 0.10543482, 0.10318597,\n",
       "       0.10158517, 0.0991612 , 0.09680052, 0.09472388, 0.0930977 ,\n",
       "       0.09123366, 0.08895528, 0.08975158, 0.08608988, 0.08659849,\n",
       "       0.08284386, 0.08225402, 0.08107002, 0.07826255, 0.07947125])"
      ]
     },
     "execution_count": 65,
     "metadata": {},
     "output_type": "execute_result"
    }
   ],
   "source": [
    "number = 50\n",
    "many = 10\n",
    "Max_Mat = np.zeros([number,many])\n",
    "\n",
    "for i in range(number):\n",
    "    for j in  range(many):\n",
    "        Max_Mat[i][j] = max_pdf(pdf_max_distance(i, N = 100000))\n",
    "\n",
    "mean = np.zeros(number)\n",
    "for j in range(number):\n",
    "    mean[j] = np.mean(Max_Mat[j])\n",
    "    \n",
    "mean "
   ]
  },
  {
   "cell_type": "code",
   "execution_count": 98,
   "metadata": {
    "ExecuteTime": {
     "end_time": "2020-02-17T01:11:26.462348Z",
     "start_time": "2020-02-17T01:11:25.993155Z"
    }
   },
   "outputs": [
    {
     "name": "stderr",
     "output_type": "stream",
     "text": [
      "C:\\Users\\John\\Anaconda3\\lib\\site-packages\\ipykernel_launcher.py:7: RuntimeWarning: divide by zero encountered in power\n",
      "  import sys\n"
     ]
    },
    {
     "data": {
      "text/plain": [
       "[<matplotlib.lines.Line2D at 0x1fcd503d5f8>]"
      ]
     },
     "execution_count": 98,
     "metadata": {},
     "output_type": "execute_result"
    },
    {
     "data": {
      "image/png": "[encoded data removed]",
      "text/plain": [
       "<Figure size 432x288 with 1 Axes>"
      ]
     },
     "metadata": {
      "needs_background": "light"
     },
     "output_type": "display_data"
    }
   ],
   "source": [
    "plt.scatter(range(1,number), mean[1:])\n",
    "\n",
    "a_1 = -.430302\n",
    "b_1 = .844842\n",
    "c_1 = -.0816661\n",
    "X = np.linspace(0,50)\n",
    "Y = b_1*(X**a_1) + c_1\n",
    "\n",
    "plt.plot(X, Y, color = 'r')\n",
    "#plt.plot(X, Y, color = 'c')"
   ]
  },
  {
   "cell_type": "code",
   "execution_count": 89,
   "metadata": {
    "ExecuteTime": {
     "end_time": "2020-02-16T01:11:47.375799Z",
     "start_time": "2020-02-16T01:11:47.368772Z"
    }
   },
   "outputs": [],
   "source": [
    "np.savetxt(\"foo.csv\", mean.astype(float), delimiter=\",\")"
   ]
  }
 ],
 "metadata": {
  "kernelspec": {
   "display_name": "Python 3",
   "language": "python",
   "name": "python3"
  },
  "language_info": {
   "codemirror_mode": {
    "name": "ipython",
    "version": 3
   },
   "file_extension": ".py",
   "mimetype": "text/x-python",
   "name": "python",
   "nbconvert_exporter": "python",
   "pygments_lexer": "ipython3",
   "version": "3.7.1"
  }
 },
 "nbformat": 4,
 "nbformat_minor": 2
}
