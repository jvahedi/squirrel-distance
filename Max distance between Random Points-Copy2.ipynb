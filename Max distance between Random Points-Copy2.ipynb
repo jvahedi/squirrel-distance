{
 "cells": [
  {
   "cell_type": "code",
   "execution_count": 1,
   "metadata": {
    "ExecuteTime": {
     "end_time": "2020-04-10T04:05:51.050853Z",
     "start_time": "2020-04-10T04:05:50.498673Z"
    }
   },
   "outputs": [],
   "source": [
    "import numpy as np\n",
    "import matplotlib.pyplot as plt\n",
    "%matplotlib inline\n"
   ]
  },
  {
   "cell_type": "code",
   "execution_count": 2,
   "metadata": {
    "ExecuteTime": {
     "end_time": "2020-04-10T04:05:51.156020Z",
     "start_time": "2020-04-10T04:05:51.129093Z"
    }
   },
   "outputs": [],
   "source": [
    "def pdf_max_distance(n,a = 0,b = 1,N = 100000, array = 0):\n",
    "    \n",
    "    #Function simulates a distribution for the maximum distance between n many points placed randomly on a 1D interval [a,b].\n",
    "\n",
    "    \n",
    "    # INPUT:\n",
    "    # 'n' : number of squirrels running around (or placed) on the interval \n",
    "    # 'a' : left endpoint\n",
    "    # 'b' : right endpoint\n",
    "    # 'N' : number of simulations to run to populate distribution\n",
    "    # 'array' : if 0 then returns array simulation for 'n', if 1 then returns matrix simulation up to and including n\n",
    "    \n",
    "    #OUTPUT:\n",
    "    # 'Dmaxs' : array of N simulations for maximum length from all points to adjacent points including endpoints\n",
    "    \n",
    "    if array == 0:\n",
    "        \n",
    "        Dmaxs = np.empty(N)\n",
    "\n",
    "        for k in range(N):\n",
    "            x = np.array([a])\n",
    "            x = np.append(x, np.sort(np.random.rand(n)))\n",
    "            x = np.append(x,b)\n",
    "            \n",
    "            Dx = x[1:] - x[:-1]\n",
    "            \n",
    "            Dmax = np.amax(Dx)\n",
    "            \n",
    "            Dmaxs[k] = Dmax\n",
    "            \n",
    "        return Dmaxs\n",
    "    \n",
    "    elif array == 1:\n",
    "        \n",
    "        num = n\n",
    "        Dmaxs = np.empty([num,N])\n",
    "\n",
    "        for n in range(1,num+1):\n",
    "            \n",
    "            for k in range(N):\n",
    "                x = np.array([a])\n",
    "                x = np.append(x, np.sort(np.random.rand(n)))\n",
    "                x = np.append(x,b)\n",
    "\n",
    "                Dx = x[1:] - x[:-1]\n",
    "        \n",
    "                Dmax = np.amax(Dx)\n",
    "                \n",
    "                Dmaxs[n-1][k] = Dmax\n",
    "                \n",
    "        return Dmaxs\n",
    "    \n",
    "    else:\n",
    "        print(\"'array' input not recognized\")"
   ]
  },
  {
   "cell_type": "code",
   "execution_count": 3,
   "metadata": {
    "ExecuteTime": {
     "end_time": "2020-04-10T04:05:52.313926Z",
     "start_time": "2020-04-10T04:05:52.307976Z"
    }
   },
   "outputs": [],
   "source": [
    "def max_pdf(Dmaxs, position = 1):\n",
    "    \n",
    "    # INPUT:\n",
    "    # 'Dmaxs' : array of N values in distribution\n",
    "    \n",
    "    # OUTPUT:\n",
    "    # 'max_prob' : \n",
    "    #     if position is 1: returns bin position of maximum pdf\n",
    "    #     if position is 0: returns the number of occurences of the max pdf \n",
    "    \n",
    "    S = np.shape(Dmaxs)\n",
    "    if np.size(S) == 1:\n",
    "        N = S[0]\n",
    "    else:\n",
    "        N = S[1]\n",
    "    \n",
    "    max_prob = np.histogram(Dmaxs,bins = np.sqrt(N).astype(int))\n",
    "    max_ind = np.argmax(max_prob[0])\n",
    "    \n",
    "    if position == 1:\n",
    "        return max_prob[1][max_ind]\n",
    "        \n",
    "    elif position == 0:\n",
    "        return max_prob[0][max_ind]\n",
    "    \n",
    "    else:\n",
    "        print(\"'position' input not recognized\")"
   ]
  },
  {
   "cell_type": "code",
   "execution_count": 13,
   "metadata": {
    "ExecuteTime": {
     "end_time": "2020-04-10T04:50:56.148253Z",
     "start_time": "2020-04-10T04:50:54.005980Z"
    }
   },
   "outputs": [
    {
     "data": {
      "image/png": "[encoded data removed]",
      "text/plain": [
       "<Figure size 432x288 with 1 Axes>"
      ]
     },
     "metadata": {
      "needs_background": "light"
     },
     "output_type": "display_data"
    }
   ],
   "source": [
    "Dmaxs = pdf_max_distance(1, N = 100000)\n",
    "N = np.size(Dmaxs)\n",
    "plt.hist(Dmaxs, bins = np.sqrt(N).astype(int), density = 'True')\n",
    "plt.show()"
   ]
  },
  {
   "cell_type": "code",
   "execution_count": 6,
   "metadata": {
    "ExecuteTime": {
     "end_time": "2020-04-10T04:07:46.053963Z",
     "start_time": "2020-04-10T04:07:43.765096Z"
    }
   },
   "outputs": [
    {
     "data": {
      "image/png": "[encoded data removed]",
      "text/plain": [
       "<Figure size 432x288 with 1 Axes>"
      ]
     },
     "metadata": {
      "needs_background": "light"
     },
     "output_type": "display_data"
    }
   ],
   "source": [
    "Dmaxs = pdf_max_distance(2, N = 100000)\n",
    "N = np.size(Dmaxs)\n",
    "plt.hist(Dmaxs, bins = np.sqrt(N).astype(int), density = 'True')\n",
    "plt.show()"
   ]
  },
  {
   "cell_type": "code",
   "execution_count": 10,
   "metadata": {
    "ExecuteTime": {
     "end_time": "2020-04-10T04:11:39.293197Z",
     "start_time": "2020-04-10T04:11:21.775050Z"
    }
   },
   "outputs": [
    {
     "data": {
      "image/png": "[encoded data removed]",
      "text/plain": [
       "<Figure size 432x288 with 1 Axes>"
      ]
     },
     "metadata": {
      "needs_background": "light"
     },
     "output_type": "display_data"
    }
   ],
   "source": [
    "Dmaxs = pdf_max_distance(3, N = 1000000)\n",
    "N = np.size(Dmaxs)\n",
    "plt.hist(Dmaxs, bins = np.sqrt(N).astype(int), density = 'True')\n",
    "plt.show()"
   ]
  },
  {
   "cell_type": "code",
   "execution_count": 5,
   "metadata": {
    "ExecuteTime": {
     "end_time": "2020-03-23T03:54:11.419171Z",
     "start_time": "2020-03-23T03:53:54.470882Z"
    }
   },
   "outputs": [],
   "source": [
    "Dmaxs = pdf_max_distance(4, N = 1000000)"
   ]
  },
  {
   "cell_type": "code",
   "execution_count": 19,
   "metadata": {
    "ExecuteTime": {
     "end_time": "2020-03-23T04:50:11.412026Z",
     "start_time": "2020-03-23T04:50:10.635960Z"
    }
   },
   "outputs": [
    {
     "name": "stderr",
     "output_type": "stream",
     "text": [
      "C:\\Users\\John\\Anaconda3\\lib\\site-packages\\ipykernel_launcher.py:7: RuntimeWarning: divide by zero encountered in true_divide\n",
      "  import sys\n",
      "C:\\Users\\John\\Anaconda3\\lib\\site-packages\\ipykernel_launcher.py:7: RuntimeWarning: invalid value encountered in multiply\n",
      "  import sys\n"
     ]
    },
    {
     "data": {
      "text/plain": [
       "[<matplotlib.lines.Line2D at 0x1f6a7cba8d0>]"
      ]
     },
     "execution_count": 19,
     "metadata": {},
     "output_type": "execute_result"
    },
    {
     "data": {
      "image/png": "[encoded data removed]",
      "text/plain": [
       "<Figure size 432x288 with 1 Axes>"
      ]
     },
     "metadata": {
      "needs_background": "light"
     },
     "output_type": "display_data"
    }
   ],
   "source": [
    "plt.hist(Dmaxs, bins = np.sqrt(N).astype(int), density = 'True')\n",
    "m = 4\n",
    "h = 1/(m+1)\n",
    "a =(.4-h)/m\n",
    "A =1/(np.math.factorial(m)*a)\n",
    "X = np.linspace(h,1,1000)\n",
    "plt.plot(X, A*((1/(X-h)-(1+1/m))**m)*np.exp(-(1/(X-h)-(1+1/m))))"
   ]
  },
  {
   "cell_type": "code",
   "execution_count": null,
   "metadata": {},
   "outputs": [],
   "source": [
    "N = np.size(Dmaxs)\n",
    "bin, value = np.histogram(Dmaxs,bins = np.sqrt(N).astype(int), density = 'True') "
   ]
  },
  {
   "cell_type": "code",
   "execution_count": 22,
   "metadata": {
    "ExecuteTime": {
     "end_time": "2020-02-15T23:55:45.158787Z",
     "start_time": "2020-02-15T23:55:44.609766Z"
    }
   },
   "outputs": [
    {
     "data": {
      "text/plain": [
       "[<matplotlib.lines.Line2D at 0x1fcd62afac8>]"
      ]
     },
     "execution_count": 22,
     "metadata": {},
     "output_type": "execute_result"
    },
    {
     "data": {
      "image/png": "[encoded data removed]",
      "text/plain": [
       "<Figure size 432x288 with 1 Axes>"
      ]
     },
     "metadata": {
      "needs_background": "light"
     },
     "output_type": "display_data"
    }
   ],
   "source": [
    "plt.hist(Dmaxs, bins = np.sqrt(N).astype(int), density = 'True')\n",
    "m = 4\n",
    "h = 1/(m+1)\n",
    "a =(.4-h)/m\n",
    "A =1/(np.math.factorial(m)*a)\n",
    "X = np.linspace(h,1,1000) \n",
    "plt.plot(X, A*(((X-h)/a)**m)*np.exp(-(X-h)/a))"
   ]
  },
  {
   "cell_type": "code",
   "execution_count": 27,
   "metadata": {
    "ExecuteTime": {
     "end_time": "2020-02-15T23:57:13.706201Z",
     "start_time": "2020-02-15T23:57:12.075614Z"
    }
   },
   "outputs": [
    {
     "data": {
      "text/plain": [
       "[<matplotlib.lines.Line2D at 0x1fcd85164e0>]"
      ]
     },
     "execution_count": 27,
     "metadata": {},
     "output_type": "execute_result"
    },
    {
     "data": {
      "image/png": "[encoded data removed]",
      "text/plain": [
       "<Figure size 432x288 with 1 Axes>"
      ]
     },
     "metadata": {
      "needs_background": "light"
     },
     "output_type": "display_data"
    }
   ],
   "source": [
    "plt.hist(Dmaxs, bins = np.sqrt(N).astype(int), density = 'False')\n",
    "m = 4\n",
    "h = 1/(m+1)\n",
    "a =(.4-h)/m\n",
    "A =1/(np.math.factorial(m)*a)\n",
    "X = np.linspace(h,1,1000) \n",
    "plt.plot(X, A*(((X-h)/a)**m)*2.748**(-1*(X-h)/a))"
   ]
  },
  {
   "cell_type": "code",
   "execution_count": 7,
   "metadata": {
    "ExecuteTime": {
     "end_time": "2020-04-10T04:08:56.540092Z",
     "start_time": "2020-04-10T04:08:54.431350Z"
    }
   },
   "outputs": [
    {
     "data": {
      "image/png": "[encoded data removed]",
      "text/plain": [
       "<Figure size 432x288 with 1 Axes>"
      ]
     },
     "metadata": {
      "needs_background": "light"
     },
     "output_type": "display_data"
    }
   ],
   "source": [
    "Dmaxs = pdf_max_distance(5, N = 100000)\n",
    "N = np.size(Dmaxs)\n",
    "plt.hist(Dmaxs, bins = np.sqrt(N).astype(int), density = 'True')\n",
    "plt.show()"
   ]
  },
  {
   "cell_type": "code",
   "execution_count": 11,
   "metadata": {
    "ExecuteTime": {
     "end_time": "2020-04-10T04:48:42.319310Z",
     "start_time": "2020-04-10T04:30:04.105624Z"
    }
   },
   "outputs": [
    {
     "data": {
      "text/plain": [
       "array([1.        , 0.80664668, 0.51154998, 0.44542362, 0.39245755,\n",
       "       0.34871488, 0.31786188, 0.29098622, 0.2719922 , 0.24913279,\n",
       "       0.23276683, 0.21926377, 0.20930777, 0.19982976, 0.19203928,\n",
       "       0.1777988 , 0.1750919 , 0.16623992, 0.15702474, 0.15526878,\n",
       "       0.15025748, 0.14462562, 0.138745  , 0.13527613, 0.1310047 ,\n",
       "       0.12892895, 0.1246148 , 0.12069214, 0.11762739, 0.11685767,\n",
       "       0.11288218, 0.10971053, 0.10733383, 0.10686628, 0.10358601,\n",
       "       0.10103468, 0.09973756, 0.09842715, 0.09543604, 0.09276276,\n",
       "       0.090886  , 0.09047465, 0.08733774, 0.08614619, 0.08489281,\n",
       "       0.0842848 , 0.0813304 , 0.08152289, 0.08038734, 0.07959174])"
      ]
     },
     "execution_count": 11,
     "metadata": {},
     "output_type": "execute_result"
    }
   ],
   "source": [
    "number = 50\n",
    "many = 10\n",
    "Max_Mat = np.zeros([number,many])\n",
    "\n",
    "for i in range(number):\n",
    "    for j in  range(many):\n",
    "        Max_Mat[i][j] = max_pdf(pdf_max_distance(i, N = 100000))\n",
    "\n",
    "mean = np.zeros(number)\n",
    "for j in range(number):\n",
    "    mean[j] = np.mean(Max_Mat[j])\n",
    "    \n",
    "mean "
   ]
  },
  {
   "cell_type": "code",
   "execution_count": 12,
   "metadata": {
    "ExecuteTime": {
     "end_time": "2020-04-10T04:48:42.606540Z",
     "start_time": "2020-04-10T04:48:42.327287Z"
    }
   },
   "outputs": [
    {
     "name": "stderr",
     "output_type": "stream",
     "text": [
      "C:\\Users\\John\\Anaconda3\\lib\\site-packages\\ipykernel_launcher.py:7: RuntimeWarning: divide by zero encountered in power\n",
      "  import sys\n"
     ]
    },
    {
     "data": {
      "text/plain": [
       "[<matplotlib.lines.Line2D at 0x162c3178a20>]"
      ]
     },
     "execution_count": 12,
     "metadata": {},
     "output_type": "execute_result"
    },
    {
     "data": {
      "image/png": "[encoded data removed]",
      "text/plain": [
       "<Figure size 432x288 with 1 Axes>"
      ]
     },
     "metadata": {
      "needs_background": "light"
     },
     "output_type": "display_data"
    }
   ],
   "source": [
    "plt.scatter(range(1,number), mean[1:])\n",
    "\n",
    "a_1 = -.430302\n",
    "b_1 = .844842\n",
    "c_1 = -.0816661\n",
    "X = np.linspace(0,50)\n",
    "Y = b_1*(X**a_1) + c_1\n",
    "\n",
    "plt.plot(X, Y, color = 'r')\n",
    "#plt.plot(X, Y, color = 'c')"
   ]
  },
  {
   "cell_type": "code",
   "execution_count": 89,
   "metadata": {
    "ExecuteTime": {
     "end_time": "2020-02-16T01:11:47.375799Z",
     "start_time": "2020-02-16T01:11:47.368772Z"
    }
   },
   "outputs": [],
   "source": [
    "np.savetxt(\"foo.csv\", mean.astype(float), delimiter=\",\")"
   ]
  }
 ],
 "metadata": {
  "kernelspec": {
   "display_name": "Python 3",
   "language": "python",
   "name": "python3"
  },
  "language_info": {
   "codemirror_mode": {
    "name": "ipython",
    "version": 3
   },
   "file_extension": ".py",
   "mimetype": "text/x-python",
   "name": "python",
   "nbconvert_exporter": "python",
   "pygments_lexer": "ipython3",
   "version": "3.8.3"
  }
 },
 "nbformat": 4,
 "nbformat_minor": 2
}
